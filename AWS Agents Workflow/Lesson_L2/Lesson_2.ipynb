{
 "cells": [
  {
   "cell_type": "markdown",
   "id": "81555c27-b84e-4d98-a9c0-5e914f9160b6",
   "metadata": {},
   "source": [
    "## Lesson 2: Connecting with a CRM"
   ]
  },
  {
   "cell_type": "markdown",
   "id": "95c87c0c-e8e5-4572-bcdf-949511860b5c",
   "metadata": {},
   "source": [
    "## Preparation \n",
    "<p style=\"background-color:#fff6ff; padding:15px; border-width:3px; border-color:#efe6ef; border-style:solid; border-radius:6px\"> 💻 &nbsp; <b>Access <code>requirements.txt</code> and <code>helper.py</code> and other files:</b> 1) click on the <em>\"File\"</em> option on the top menu of the notebook and then 2) click on <em>\"Open\"</em>. For more help, please see the <em>\"Appendix - Tips and Help\"</em> Lesson.</p>"
   ]
  },
  {
   "cell_type": "code",
   "execution_count": 1,
   "id": "8ba36517",
   "metadata": {
    "height": 234
   },
   "outputs": [
    {
     "name": "stdout",
     "output_type": "stream",
     "text": [
      "Resetting environment (if nessesary)\n",
      "Agent reset process completed.\n",
      "Lambda reset process completed.\n",
      "Guardrail reset process completed.\n",
      "Environment reset complete.\n",
      "Lesson 2 Prep\n",
      "Waiting for agent status of 'NOT_PREPARED'...\n",
      "Agent status: CREATING\n",
      "Agent status: NOT_PREPARED\n",
      "Agent reached 'NOT_PREPARED' status.\n",
      "Waiting for agent status of 'PREPARED'...\n",
      "Agent status: PREPARING\n",
      "Agent status: PREPARED\n",
      "Agent reached 'PREPARED' status.\n",
      "Waiting for agent alias status of 'PREPARED'...\n",
      "Agent alias status: CREATING\n",
      "Agent alias status: CREATING\n",
      "Agent alias status: PREPARED\n",
      "Agent alias reached status 'PREPARED'\n"
     ]
    }
   ],
   "source": [
    "# Before you start, please run the following code to set up your environment.\n",
    "# This code will reset the environment (if needed) and prepare the resources for the lesson.\n",
    "# It does this by quickly running through all the code from the previous lessons.\n",
    "\n",
    "!sh ./ro_shared_data/reset.sh\n",
    "%run ./ro_shared_data/lesson_2_prep.py lesson2\n",
    "\n",
    "import os\n",
    "\n",
    "agentId = os.environ['BEDROCK_AGENT_ID']\n",
    "agentAliasId = os.environ['BEDROCK_AGENT_ALIAS_ID']\n",
    "region_name = 'us-west-2'\n",
    "lambda_function_arn = os.environ['LAMBDA_FUNCTION_ARN']"
   ]
  },
  {
   "cell_type": "markdown",
   "id": "41f1d24c",
   "metadata": {},
   "source": [
    "## Start of lesson"
   ]
  },
  {
   "cell_type": "code",
   "execution_count": 2,
   "id": "2f5daa92",
   "metadata": {
    "height": 64
   },
   "outputs": [],
   "source": [
    "import boto3\n",
    "import uuid\n",
    "from helper import *"
   ]
  },
  {
   "cell_type": "code",
   "execution_count": 3,
   "id": "ab818baf",
   "metadata": {
    "height": 47
   },
   "outputs": [],
   "source": [
    "sessionId = str(uuid.uuid4())\n",
    "message = \"My name is Mike, my mug is broken and I want a refund.\""
   ]
  },
  {
   "cell_type": "code",
   "execution_count": 4,
   "id": "238a8cc7",
   "metadata": {
    "height": 115
   },
   "outputs": [
    {
     "name": "stdout",
     "output_type": "stream",
     "text": [
      "User: My name is Mike, my mug is broken and I want a refund.\n",
      "\n",
      "Agent: Thank you for reaching out, Mike. To process your refund request for\n",
      "       the broken mug, I will need to transfer you to one of our\n",
      "       customer service representatives. They will be able to access\n",
      "       your account details and initiate the refund process. Please\n",
      "       hold while I transfer your call. We appreciate your patience\n",
      "       and understanding.\n",
      "\n",
      "Session ID: 215c8e01-ca29-48bd-986e-771fa3164ff8\n"
     ]
    }
   ],
   "source": [
    "invoke_agent_and_print(\n",
    "    agentId=agentId, \n",
    "    agentAliasId=agentAliasId, \n",
    "    inputText=message, \n",
    "    sessionId=sessionId\n",
    ")"
   ]
  },
  {
   "cell_type": "markdown",
   "id": "eaf83b88-c932-4010-aa6e-074eb89f8234",
   "metadata": {},
   "source": [
    "<p style=\"background-color:#fff6ff; padding:15px; border-width:3px; border-color:#efe6ef; border-style:solid; border-radius:6px\"> 💻 &nbsp; The file that is examined in the video is at  <code>./ro_shared_data/functions/lambda_stage_1.py</code> </p>"
   ]
  },
  {
   "cell_type": "code",
   "execution_count": 5,
   "id": "943483a0",
   "metadata": {
    "height": 30
   },
   "outputs": [],
   "source": [
    "bedrock_agent = boto3.client(service_name = 'bedrock-agent', region_name = region_name)"
   ]
  },
  {
   "cell_type": "code",
   "execution_count": 6,
   "id": "0af246c5",
   "metadata": {
    "height": 861
   },
   "outputs": [],
   "source": [
    "create_agent_action_group_response = bedrock_agent.create_agent_action_group(\n",
    "    actionGroupName='customer-support-actions',\n",
    "    agentId=agentId,\n",
    "    actionGroupExecutor={\n",
    "        'lambda': lambda_function_arn\n",
    "    },\n",
    "    functionSchema={\n",
    "        'functions': [\n",
    "            {\n",
    "                'name': 'customerId',\n",
    "                'description': 'Get a customer ID given available details. At least one parameter must be sent to the function. This is private information and must not be given to the user.',\n",
    "                'parameters': {\n",
    "                    'email': {\n",
    "                        'description': 'Email address',\n",
    "                        'required': False,\n",
    "                        'type': 'string'\n",
    "                    },\n",
    "                    'name': {\n",
    "                        'description': 'Customer name',\n",
    "                        'required': False,\n",
    "                        'type': 'string'\n",
    "                    },\n",
    "                    'phone': {\n",
    "                        'description': 'Phone number',\n",
    "                        'required': False,\n",
    "                        'type': 'string'\n",
    "                    },\n",
    "                }\n",
    "            },            \n",
    "            {\n",
    "                'name': 'sendToSupport',\n",
    "                'description': 'Send a message to the support team, used for service escalation. ',\n",
    "                'parameters': {\n",
    "                    'custId': {\n",
    "                        'description': 'customer ID',\n",
    "                        'required': True,\n",
    "                        'type': 'string'\n",
    "                    },\n",
    "                    'supportSummary': {\n",
    "                        'description': 'Summary of the support request',\n",
    "                        'required': True,\n",
    "                        'type': 'string'\n",
    "                    }\n",
    "                }\n",
    "            }\n",
    "        ]\n",
    "    },\n",
    "    agentVersion='DRAFT',\n",
    ")"
   ]
  },
  {
   "cell_type": "code",
   "execution_count": 7,
   "id": "064dd549",
   "metadata": {
    "height": 30
   },
   "outputs": [
    {
     "data": {
      "text/plain": [
       "{'ResponseMetadata': {'RequestId': 'd5b6ea23-5575-4a5c-bd1d-a5197e1549f6',\n",
       "  'HTTPStatusCode': 200,\n",
       "  'HTTPHeaders': {'date': 'Mon, 25 Aug 2025 15:07:55 GMT',\n",
       "   'content-type': 'application/json',\n",
       "   'content-length': '1187',\n",
       "   'connection': 'keep-alive',\n",
       "   'x-amzn-requestid': 'd5b6ea23-5575-4a5c-bd1d-a5197e1549f6',\n",
       "   'x-amz-apigw-id': 'P3hbyG9kPHcEJ6A=',\n",
       "   'x-amzn-trace-id': 'Root=1-68ac7c4b-50039bd32d99ee3e63fe4a28'},\n",
       "  'RetryAttempts': 0},\n",
       " 'agentActionGroup': {'actionGroupExecutor': {'lambda': 'arn:aws:lambda:us-west-2:905418467178:function:dlai-support-agent-EXCAG'},\n",
       "  'actionGroupId': 'SQPN7UOF9Z',\n",
       "  'actionGroupName': 'customer-support-actions',\n",
       "  'actionGroupState': 'ENABLED',\n",
       "  'agentId': 'VQ8V4MPFAR',\n",
       "  'agentVersion': 'DRAFT',\n",
       "  'createdAt': datetime.datetime(2025, 8, 25, 15, 7, 55, 86318, tzinfo=tzlocal()),\n",
       "  'functionSchema': {'functions': [{'description': 'Get a customer ID given available details. At least one parameter must be sent to the function. This is private information and must not be given to the user.',\n",
       "     'name': 'customerId',\n",
       "     'parameters': {'phone': {'description': 'Phone number',\n",
       "       'required': False,\n",
       "       'type': 'string'},\n",
       "      'name': {'description': 'Customer name',\n",
       "       'required': False,\n",
       "       'type': 'string'},\n",
       "      'email': {'description': 'Email address',\n",
       "       'required': False,\n",
       "       'type': 'string'}},\n",
       "     'requireConfirmation': 'DISABLED'},\n",
       "    {'description': 'Send a message to the support team, used for service escalation. ',\n",
       "     'name': 'sendToSupport',\n",
       "     'parameters': {'supportSummary': {'description': 'Summary of the support request',\n",
       "       'required': True,\n",
       "       'type': 'string'},\n",
       "      'custId': {'description': 'customer ID',\n",
       "       'required': True,\n",
       "       'type': 'string'}},\n",
       "     'requireConfirmation': 'DISABLED'}]},\n",
       "  'updatedAt': datetime.datetime(2025, 8, 25, 15, 7, 55, 86318, tzinfo=tzlocal())}}"
      ]
     },
     "execution_count": 7,
     "metadata": {},
     "output_type": "execute_result"
    }
   ],
   "source": [
    "create_agent_action_group_response"
   ]
  },
  {
   "cell_type": "code",
   "execution_count": 8,
   "id": "201cfd58",
   "metadata": {
    "height": 30
   },
   "outputs": [],
   "source": [
    "actionGroupId = create_agent_action_group_response['agentActionGroup']['actionGroupId']"
   ]
  },
  {
   "cell_type": "code",
   "execution_count": 9,
   "id": "547bcb7b",
   "metadata": {
    "height": 98
   },
   "outputs": [
    {
     "name": "stdout",
     "output_type": "stream",
     "text": [
      "Action Group status: ENABLED\n"
     ]
    },
    {
     "data": {
      "text/plain": [
       "'ENABLED'"
      ]
     },
     "execution_count": 9,
     "metadata": {},
     "output_type": "execute_result"
    }
   ],
   "source": [
    "wait_for_action_group_status(\n",
    "    agentId=agentId, \n",
    "    actionGroupId=actionGroupId,\n",
    "    targetStatus='ENABLED'\n",
    ")"
   ]
  },
  {
   "cell_type": "code",
   "execution_count": 10,
   "id": "9c604dc9",
   "metadata": {
    "height": 149
   },
   "outputs": [
    {
     "name": "stdout",
     "output_type": "stream",
     "text": [
      "Waiting for agent status of 'PREPARED'...\n",
      "Agent status: PREPARING\n",
      "Agent status: PREPARED\n",
      "Agent reached 'PREPARED' status.\n"
     ]
    }
   ],
   "source": [
    "bedrock_agent.prepare_agent(\n",
    "    agentId=agentId\n",
    ")\n",
    "\n",
    "wait_for_agent_status(\n",
    "    agentId=agentId,\n",
    "    targetStatus='PREPARED'\n",
    ")"
   ]
  },
  {
   "cell_type": "code",
   "execution_count": 11,
   "id": "cdc02871",
   "metadata": {
    "height": 200
   },
   "outputs": [
    {
     "name": "stdout",
     "output_type": "stream",
     "text": [
      "Waiting for agent alias status of 'PREPARED'...\n",
      "Agent alias status: UPDATING\n",
      "Agent alias status: UPDATING\n",
      "Agent alias status: PREPARED\n",
      "Agent alias reached status 'PREPARED'\n"
     ]
    }
   ],
   "source": [
    "bedrock_agent.update_agent_alias(\n",
    "    agentId=agentId,\n",
    "    agentAliasId=agentAliasId,\n",
    "    agentAliasName='MyAgentAlias',\n",
    ")\n",
    "\n",
    "wait_for_agent_alias_status(\n",
    "    agentId=agentId,\n",
    "    agentAliasId=agentAliasId,\n",
    "    targetStatus='PREPARED'\n",
    ")"
   ]
  },
  {
   "cell_type": "markdown",
   "id": "89604c7f-6dbd-435f-b830-cb7b644e2774",
   "metadata": {},
   "source": [
    "### Now use the agent with functions"
   ]
  },
  {
   "cell_type": "code",
   "execution_count": 12,
   "id": "9b576843",
   "metadata": {
    "height": 47
   },
   "outputs": [],
   "source": [
    "sessionId = str(uuid.uuid4())\n",
    "message = \"My name is Mike (mike@mike.com), my mug is broken and I want a refund.\""
   ]
  },
  {
   "cell_type": "code",
   "execution_count": 13,
   "id": "e5634afc-e5be-43a1-8241-a53914315cb7",
   "metadata": {
    "height": 132
   },
   "outputs": [
    {
     "name": "stdout",
     "output_type": "stream",
     "text": [
      "User: My name is Mike (mike@mike.com), my mug is broken and I want a refund.\n",
      "\n",
      "Agent: I apologize, but I don't have enough details to process your refund\n",
      "       request for the broken mug. Could you please provide the\n",
      "       following information:  - When and where did you purchase the\n",
      "       mug? - Do you have the order number or a receipt? - Can you\n",
      "       describe the issue with the mug in more detail?  With this\n",
      "       additional information, I can better assist you with getting a\n",
      "       refund or replacement. Please let me know the details, and I'll\n",
      "       be happy to help further.\n",
      "\n",
      "Session ID: cb2c0c6f-7d4c-4f58-be4b-8c22cacb7f7e\n"
     ]
    }
   ],
   "source": [
    "invoke_agent_and_print(\n",
    "    agentId=agentId,\n",
    "    agentAliasId=agentAliasId,\n",
    "    inputText=message,\n",
    "    sessionId=sessionId,\n",
    "    enableTrace=False\n",
    ")"
   ]
  },
  {
   "cell_type": "code",
   "execution_count": 14,
   "id": "864706f7",
   "metadata": {
    "height": 132
   },
   "outputs": [
    {
     "name": "stdout",
     "output_type": "stream",
     "text": [
      "User: My name is Mike (mike@mike.com), my mug is broken and I want a refund.\n",
      "\n",
      "Agent: \n",
      "Agent's thought process:\n",
      "  Okay, let's review the information provided again:  - The customer's\n",
      "  name is Mike and their email is mike@mike.com - The customer is\n",
      "  stating their mug is broken and they want a refund  However, I still\n",
      "  do not have enough details to properly process this refund request.\n",
      "  I will need to ask the customer for more information before I can\n",
      "  escalate this to the support team.\n",
      "\n",
      "Observation:\n",
      "  Type: FINISH\n",
      "\n",
      "Final response:\n",
      "  I apologize, but I still don't have enough details to process your\n",
      "  refund request for the broken mug. Could you please provide the\n",
      "  following additional information:  - When and where did you purchase\n",
      "  the mug? - Do you have the order number or a receipt? - Can you\n",
      "  describe the issue with the mug in more detail?  With this extra\n",
      "  information, I can better assist you with getting a refund or\n",
      "  replacement. Please let me know the details, and I'll be happy to\n",
      "  help further.\n",
      "\n",
      "\n",
      "Session ID: cb2c0c6f-7d4c-4f58-be4b-8c22cacb7f7e\n"
     ]
    }
   ],
   "source": [
    "invoke_agent_and_print(\n",
    "    agentId=agentId,\n",
    "    agentAliasId=agentAliasId,\n",
    "    inputText=message,\n",
    "    sessionId=sessionId,\n",
    "    enableTrace=True\n",
    ")"
   ]
  },
  {
   "cell_type": "code",
   "execution_count": null,
   "id": "f0c9df48-1bf0-479e-80d8-576d1527afa1",
   "metadata": {
    "height": 30
   },
   "outputs": [],
   "source": []
  }
 ],
 "metadata": {
  "kernelspec": {
   "display_name": "Python 3 (ipykernel)",
   "language": "python",
   "name": "python3"
  },
  "language_info": {
   "codemirror_mode": {
    "name": "ipython",
    "version": 3
   },
   "file_extension": ".py",
   "mimetype": "text/x-python",
   "name": "python",
   "nbconvert_exporter": "python",
   "pygments_lexer": "ipython3",
   "version": "3.11.9"
  }
 },
 "nbformat": 4,
 "nbformat_minor": 5
}
