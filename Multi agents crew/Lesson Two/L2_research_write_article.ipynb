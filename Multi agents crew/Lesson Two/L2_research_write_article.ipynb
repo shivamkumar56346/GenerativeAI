{
 "cells": [
  {
   "cell_type": "markdown",
   "metadata": {},
   "source": [
    "You can download the `requirements.txt` for this course from the workspace of this lab. `File --> Open...`"
   ]
  },
  {
   "cell_type": "markdown",
   "metadata": {},
   "source": [
    "# L2: Create Agents to Research and Write an Article\n",
    "\n",
    "In this lesson, you will be introduced to the foundational concepts of multi-agent systems and get an overview of the crewAI framework."
   ]
  },
  {
   "cell_type": "markdown",
   "metadata": {},
   "source": [
    "The libraries are already installed in the classroom. If you're running this notebook on your own machine, you can install the following:\n",
    "```Python\n",
    "!pip install crewai==0.28.8 crewai_tools==0.1.6 langchain_community==0.0.29\n",
    "```"
   ]
  },
  {
   "cell_type": "code",
   "execution_count": 1,
   "metadata": {
    "height": 64
   },
   "outputs": [],
   "source": [
    "# Warning control\n",
    "import warnings\n",
    "warnings.filterwarnings('ignore')"
   ]
  },
  {
   "cell_type": "markdown",
   "metadata": {},
   "source": [
    "- Import from the crewAI libray."
   ]
  },
  {
   "cell_type": "code",
   "execution_count": 2,
   "metadata": {
    "height": 30
   },
   "outputs": [],
   "source": [
    "from crewai import Agent, Task, Crew"
   ]
  },
  {
   "cell_type": "markdown",
   "metadata": {},
   "source": [
    "- As a LLM for your agents, you'll be using OpenAI's `gpt-3.5-turbo`.\n",
    "\n",
    "**Optional Note:** crewAI also allow other popular models to be used as a LLM for your Agents. You can see some of the examples at the [bottom of the notebook](#1)."
   ]
  },
  {
   "cell_type": "code",
   "execution_count": 3,
   "metadata": {
    "height": 98
   },
   "outputs": [],
   "source": [
    "import os\n",
    "from utils import get_openai_api_key\n",
    "\n",
    "openai_api_key = get_openai_api_key()\n",
    "os.environ[\"OPENAI_MODEL_NAME\"] = 'gpt-3.5-turbo'"
   ]
  },
  {
   "cell_type": "markdown",
   "metadata": {},
   "source": [
    "## Creating Agents\n",
    "\n",
    "- Define your Agents, and provide them a `role`, `goal` and `backstory`.\n",
    "- It has been seen that LLMs perform better when they are role playing."
   ]
  },
  {
   "cell_type": "markdown",
   "metadata": {},
   "source": [
    "### Agent: Planner\n",
    "\n",
    "**Note**: The benefit of using _multiple strings_ :\n",
    "```Python\n",
    "varname = \"line 1 of text\"\n",
    "          \"line 2 of text\"\n",
    "```\n",
    "\n",
    "versus the _triple quote docstring_:\n",
    "```Python\n",
    "varname = \"\"\"line 1 of text\n",
    "             line 2 of text\n",
    "          \"\"\"\n",
    "```\n",
    "is that it can avoid adding those whitespaces and newline characters, making it better formatted to be passed to the LLM."
   ]
  },
  {
   "cell_type": "code",
   "execution_count": 4,
   "metadata": {
    "height": 234
   },
   "outputs": [],
   "source": [
    "planner = Agent(\n",
    "    role=\"Content Planner\",\n",
    "    goal=\"Plan engaging and factually accurate content on {topic}\",\n",
    "    backstory=\"You're working on planning a blog article \"\n",
    "              \"about the topic: {topic}.\"\n",
    "              \"You collect information that helps the \"\n",
    "              \"audience learn something \"\n",
    "              \"and make informed decisions. \"\n",
    "              \"Your work is the basis for \"\n",
    "              \"the Content Writer to write an article on this topic.\",\n",
    "    allow_delegation=False,\n",
    "\tverbose=True\n",
    ")"
   ]
  },
  {
   "cell_type": "markdown",
   "metadata": {},
   "source": [
    "### Agent: Writer"
   ]
  },
  {
   "cell_type": "code",
   "execution_count": 5,
   "metadata": {
    "height": 370
   },
   "outputs": [],
   "source": [
    "writer = Agent(\n",
    "    role=\"Content Writer\",\n",
    "    goal=\"Write insightful and factually accurate \"\n",
    "         \"opinion piece about the topic: {topic}\",\n",
    "    backstory=\"You're working on a writing \"\n",
    "              \"a new opinion piece about the topic: {topic}. \"\n",
    "              \"You base your writing on the work of \"\n",
    "              \"the Content Planner, who provides an outline \"\n",
    "              \"and relevant context about the topic. \"\n",
    "              \"You follow the main objectives and \"\n",
    "              \"direction of the outline, \"\n",
    "              \"as provide by the Content Planner. \"\n",
    "              \"You also provide objective and impartial insights \"\n",
    "              \"and back them up with information \"\n",
    "              \"provide by the Content Planner. \"\n",
    "              \"You acknowledge in your opinion piece \"\n",
    "              \"when your statements are opinions \"\n",
    "              \"as opposed to objective statements.\",\n",
    "    allow_delegation=False,\n",
    "    verbose=True\n",
    ")"
   ]
  },
  {
   "cell_type": "markdown",
   "metadata": {},
   "source": [
    "### Agent: Editor"
   ]
  },
  {
   "cell_type": "code",
   "execution_count": 6,
   "metadata": {
    "height": 268
   },
   "outputs": [],
   "source": [
    "editor = Agent(\n",
    "    role=\"Editor\",\n",
    "    goal=\"Edit a given blog post to align with \"\n",
    "         \"the writing style of the organization. \",\n",
    "    backstory=\"You are an editor who receives a blog post \"\n",
    "              \"from the Content Writer. \"\n",
    "              \"Your goal is to review the blog post \"\n",
    "              \"to ensure that it follows journalistic best practices,\"\n",
    "              \"provides balanced viewpoints \"\n",
    "              \"when providing opinions or assertions, \"\n",
    "              \"and also avoids major controversial topics \"\n",
    "              \"or opinions when possible.\",\n",
    "    allow_delegation=False,\n",
    "    verbose=True\n",
    ")"
   ]
  },
  {
   "cell_type": "markdown",
   "metadata": {},
   "source": [
    "## Creating Tasks\n",
    "\n",
    "- Define your Tasks, and provide them a `description`, `expected_output` and `agent`."
   ]
  },
  {
   "cell_type": "markdown",
   "metadata": {},
   "source": [
    "### Task: Plan"
   ]
  },
  {
   "cell_type": "code",
   "execution_count": 7,
   "metadata": {
    "height": 268
   },
   "outputs": [],
   "source": [
    "plan = Task(\n",
    "    description=(\n",
    "        \"1. Prioritize the latest trends, key players, \"\n",
    "            \"and noteworthy news on {topic}.\\n\"\n",
    "        \"2. Identify the target audience, considering \"\n",
    "            \"their interests and pain points.\\n\"\n",
    "        \"3. Develop a detailed content outline including \"\n",
    "            \"an introduction, key points, and a call to action.\\n\"\n",
    "        \"4. Include SEO keywords and relevant data or sources.\"\n",
    "    ),\n",
    "    expected_output=\"A comprehensive content plan document \"\n",
    "        \"with an outline, audience analysis, \"\n",
    "        \"SEO keywords, and resources.\",\n",
    "    agent=planner,\n",
    ")"
   ]
  },
  {
   "cell_type": "markdown",
   "metadata": {},
   "source": [
    "### Task: Write"
   ]
  },
  {
   "cell_type": "code",
   "execution_count": 8,
   "metadata": {
    "height": 319
   },
   "outputs": [],
   "source": [
    "write = Task(\n",
    "    description=(\n",
    "        \"1. Use the content plan to craft a compelling \"\n",
    "            \"blog post on {topic}.\\n\"\n",
    "        \"2. Incorporate SEO keywords naturally.\\n\"\n",
    "\t\t\"3. Sections/Subtitles are properly named \"\n",
    "            \"in an engaging manner.\\n\"\n",
    "        \"4. Ensure the post is structured with an \"\n",
    "            \"engaging introduction, insightful body, \"\n",
    "            \"and a summarizing conclusion.\\n\"\n",
    "        \"5. Proofread for grammatical errors and \"\n",
    "            \"alignment with the brand's voice.\\n\"\n",
    "    ),\n",
    "    expected_output=\"A well-written blog post \"\n",
    "        \"in markdown format, ready for publication, \"\n",
    "        \"each section should have 2 or 3 paragraphs.\",\n",
    "    agent=writer,\n",
    ")"
   ]
  },
  {
   "cell_type": "markdown",
   "metadata": {},
   "source": [
    "### Task: Edit"
   ]
  },
  {
   "cell_type": "code",
   "execution_count": 9,
   "metadata": {
    "height": 166
   },
   "outputs": [],
   "source": [
    "edit = Task(\n",
    "    description=(\"Proofread the given blog post for \"\n",
    "                 \"grammatical errors and \"\n",
    "                 \"alignment with the brand's voice.\"),\n",
    "    expected_output=\"A well-written blog post in markdown format, \"\n",
    "                    \"ready for publication, \"\n",
    "                    \"each section should have 2 or 3 paragraphs.\",\n",
    "    agent=editor\n",
    ")"
   ]
  },
  {
   "cell_type": "markdown",
   "metadata": {},
   "source": [
    "## Creating the Crew\n",
    "\n",
    "- Create your crew of Agents\n",
    "- Pass the tasks to be performed by those agents.\n",
    "    - **Note**: *For this simple example*, the tasks will be performed sequentially (i.e they are dependent on each other), so the _order_ of the task in the list _matters_.\n",
    "- `verbose=2` allows you to see all the logs of the execution. "
   ]
  },
  {
   "cell_type": "code",
   "execution_count": 10,
   "metadata": {
    "height": 98
   },
   "outputs": [],
   "source": [
    "crew = Crew(\n",
    "    agents=[planner, writer, editor],\n",
    "    tasks=[plan, write, edit],\n",
    "    verbose=2\n",
    ")"
   ]
  },
  {
   "cell_type": "markdown",
   "metadata": {},
   "source": [
    "## Running the Crew"
   ]
  },
  {
   "cell_type": "markdown",
   "metadata": {},
   "source": [
    "**Note**: LLMs can provide different outputs for they same input, so what you get might be different than what you see in the video."
   ]
  },
  {
   "cell_type": "code",
   "execution_count": 11,
   "metadata": {
    "height": 30
   },
   "outputs": [
    {
     "name": "stdout",
     "output_type": "stream",
     "text": [
      "\u001b[1m\u001b[95m [DEBUG]: == Working Agent: Content Planner\u001b[00m\n",
      "\u001b[1m\u001b[95m [INFO]: == Starting Task: 1. Prioritize the latest trends, key players, and noteworthy news on Artificial Intelligence.\n",
      "2. Identify the target audience, considering their interests and pain points.\n",
      "3. Develop a detailed content outline including an introduction, key points, and a call to action.\n",
      "4. Include SEO keywords and relevant data or sources.\u001b[00m\n",
      "\n",
      "\n",
      "\u001b[1m> Entering new CrewAgentExecutor chain...\u001b[0m\n",
      "\u001b[32;1m\u001b[1;3mI now can give a great answer\n",
      "\n",
      "Final Answer: \n",
      "\n",
      "Content Plan: \n",
      "\n",
      "Title: The Future of Artificial Intelligence: Trends, Players, and News\n",
      "\n",
      "Outline:\n",
      "\n",
      "I. Introduction\n",
      "- Definition of Artificial Intelligence (AI)\n",
      "- Importance of AI in various industries\n",
      "- Brief overview of the latest trends in AI\n",
      "\n",
      "II. Latest Trends in AI\n",
      "- Advancements in machine learning and deep learning\n",
      "- Rise of AI-powered chatbots and virtual assistants\n",
      "- Increased focus on ethical AI practices\n",
      "- Expansion of AI in healthcare, finance, and automotive industries\n",
      "\n",
      "III. Key Players in the AI Industry\n",
      "- Leading tech companies investing in AI (e.g. Google, Amazon, Microsoft)\n",
      "- Startups making significant contributions to AI innovation\n",
      "- Research institutions and universities at the forefront of AI research\n",
      "\n",
      "IV. Noteworthy News in AI\n",
      "- Recent breakthroughs in AI technology\n",
      "- Impact of AI on job market and society\n",
      "- Regulatory developments related to AI implementation\n",
      "\n",
      "V. Target Audience Analysis\n",
      "- Tech-savvy individuals interested in AI advancements\n",
      "- Business professionals seeking to leverage AI for their organizations\n",
      "- Students and researchers studying AI applications\n",
      "- Anyone curious about the future implications of AI technology\n",
      "\n",
      "VI. SEO Keywords\n",
      "- Artificial Intelligence trends\n",
      "- Top AI companies\n",
      "- AI news updates\n",
      "- Machine learning advancements\n",
      "- Ethical AI practices\n",
      "\n",
      "VII. Resources\n",
      "- Sources for latest AI news and trends (e.g. TechCrunch, MIT Technology Review)\n",
      "- Reports and studies on AI industry growth and impact\n",
      "- Interviews with AI experts and thought leaders\n",
      "\n",
      "Call to Action: \n",
      "Stay informed about the latest developments in Artificial Intelligence by subscribing to our newsletter and following us on social media for regular updates.\n",
      "\n",
      "By following this content plan, the blog article on Artificial Intelligence will provide valuable insights to the audience, helping them stay informed and make informed decisions about the future of AI technology.\u001b[0m\n",
      "\n",
      "\u001b[1m> Finished chain.\u001b[0m\n",
      "\u001b[1m\u001b[92m [DEBUG]: == [Content Planner] Task output: Content Plan: \n",
      "\n",
      "Title: The Future of Artificial Intelligence: Trends, Players, and News\n",
      "\n",
      "Outline:\n",
      "\n",
      "I. Introduction\n",
      "- Definition of Artificial Intelligence (AI)\n",
      "- Importance of AI in various industries\n",
      "- Brief overview of the latest trends in AI\n",
      "\n",
      "II. Latest Trends in AI\n",
      "- Advancements in machine learning and deep learning\n",
      "- Rise of AI-powered chatbots and virtual assistants\n",
      "- Increased focus on ethical AI practices\n",
      "- Expansion of AI in healthcare, finance, and automotive industries\n",
      "\n",
      "III. Key Players in the AI Industry\n",
      "- Leading tech companies investing in AI (e.g. Google, Amazon, Microsoft)\n",
      "- Startups making significant contributions to AI innovation\n",
      "- Research institutions and universities at the forefront of AI research\n",
      "\n",
      "IV. Noteworthy News in AI\n",
      "- Recent breakthroughs in AI technology\n",
      "- Impact of AI on job market and society\n",
      "- Regulatory developments related to AI implementation\n",
      "\n",
      "V. Target Audience Analysis\n",
      "- Tech-savvy individuals interested in AI advancements\n",
      "- Business professionals seeking to leverage AI for their organizations\n",
      "- Students and researchers studying AI applications\n",
      "- Anyone curious about the future implications of AI technology\n",
      "\n",
      "VI. SEO Keywords\n",
      "- Artificial Intelligence trends\n",
      "- Top AI companies\n",
      "- AI news updates\n",
      "- Machine learning advancements\n",
      "- Ethical AI practices\n",
      "\n",
      "VII. Resources\n",
      "- Sources for latest AI news and trends (e.g. TechCrunch, MIT Technology Review)\n",
      "- Reports and studies on AI industry growth and impact\n",
      "- Interviews with AI experts and thought leaders\n",
      "\n",
      "Call to Action: \n",
      "Stay informed about the latest developments in Artificial Intelligence by subscribing to our newsletter and following us on social media for regular updates.\n",
      "\n",
      "By following this content plan, the blog article on Artificial Intelligence will provide valuable insights to the audience, helping them stay informed and make informed decisions about the future of AI technology.\n",
      "\n",
      "\u001b[00m\n",
      "\u001b[1m\u001b[95m [DEBUG]: == Working Agent: Content Writer\u001b[00m\n",
      "\u001b[1m\u001b[95m [INFO]: == Starting Task: 1. Use the content plan to craft a compelling blog post on Artificial Intelligence.\n",
      "2. Incorporate SEO keywords naturally.\n",
      "3. Sections/Subtitles are properly named in an engaging manner.\n",
      "4. Ensure the post is structured with an engaging introduction, insightful body, and a summarizing conclusion.\n",
      "5. Proofread for grammatical errors and alignment with the brand's voice.\n",
      "\u001b[00m\n",
      "\n",
      "\n",
      "\u001b[1m> Entering new CrewAgentExecutor chain...\u001b[0m\n",
      "\u001b[32;1m\u001b[1;3mI am ready to craft a compelling opinion piece on Artificial Intelligence that incorporates the latest trends, key players in the industry, and noteworthy news. I will ensure that my writing is engaging and informative, catering to a diverse audience interested in AI advancements.\n",
      "\n",
      "Final Answer:\n",
      "\n",
      "# The Future of Artificial Intelligence: Trends, Players, and News\n",
      "\n",
      "## Introduction\n",
      "\n",
      "Artificial Intelligence (AI) is a rapidly evolving technology that simulates human intelligence to perform tasks such as speech recognition, decision-making, and visual perception. Its importance in various industries cannot be overstated, as AI has the potential to revolutionize healthcare, finance, automotive, and many other sectors. The latest trends in AI showcase advancements in machine learning and deep learning, the rise of AI-powered chatbots and virtual assistants, an increased focus on ethical AI practices, and the expansion of AI across different industries.\n",
      "\n",
      "## Latest Trends in AI\n",
      "\n",
      "One of the most exciting trends in AI is the advancements in machine learning and deep learning algorithms, which have significantly improved the capabilities of AI systems. This has led to the rise of AI-powered chatbots and virtual assistants that are becoming increasingly integrated into everyday life. Moreover, there is a growing emphasis on ethical AI practices to ensure that AI technologies are developed and deployed responsibly. AI is also making significant strides in healthcare, finance, and the automotive industry, where it is being used to enhance decision-making processes and improve overall efficiency.\n",
      "\n",
      "## Key Players in the AI Industry\n",
      "\n",
      "Leading tech companies such as Google, Amazon, and Microsoft are heavily investing in AI research and development, driving innovation in the field. Additionally, startups are making significant contributions to AI by bringing fresh perspectives and ideas to the table. Research institutions and universities are also at the forefront of AI research, pushing the boundaries of what is possible with AI technology.\n",
      "\n",
      "## Noteworthy News in AI\n",
      "\n",
      "Recent breakthroughs in AI technology, such as the development of self-learning algorithms and autonomous systems, are reshaping the way we interact with AI. However, the impact of AI on the job market and society as a whole is a topic of concern, with questions arising about the displacement of human workers by AI systems. Regulatory developments related to AI implementation are also being closely monitored to ensure that AI technologies are developed and deployed ethically and responsibly.\n",
      "\n",
      "In conclusion, Artificial Intelligence is a transformative technology that is shaping the future of various industries. By staying informed about the latest trends, key players, and news in the AI industry, individuals can make informed decisions about how to leverage AI for their organizations and prepare for the future of AI technology. Stay informed by subscribing to our newsletter and following us on social media for regular updates on AI advancements.\u001b[0m\n",
      "\n",
      "\u001b[1m> Finished chain.\u001b[0m\n",
      "\u001b[1m\u001b[92m [DEBUG]: == [Content Writer] Task output: # The Future of Artificial Intelligence: Trends, Players, and News\n",
      "\n",
      "## Introduction\n",
      "\n",
      "Artificial Intelligence (AI) is a rapidly evolving technology that simulates human intelligence to perform tasks such as speech recognition, decision-making, and visual perception. Its importance in various industries cannot be overstated, as AI has the potential to revolutionize healthcare, finance, automotive, and many other sectors. The latest trends in AI showcase advancements in machine learning and deep learning, the rise of AI-powered chatbots and virtual assistants, an increased focus on ethical AI practices, and the expansion of AI across different industries.\n",
      "\n",
      "## Latest Trends in AI\n",
      "\n",
      "One of the most exciting trends in AI is the advancements in machine learning and deep learning algorithms, which have significantly improved the capabilities of AI systems. This has led to the rise of AI-powered chatbots and virtual assistants that are becoming increasingly integrated into everyday life. Moreover, there is a growing emphasis on ethical AI practices to ensure that AI technologies are developed and deployed responsibly. AI is also making significant strides in healthcare, finance, and the automotive industry, where it is being used to enhance decision-making processes and improve overall efficiency.\n",
      "\n",
      "## Key Players in the AI Industry\n",
      "\n",
      "Leading tech companies such as Google, Amazon, and Microsoft are heavily investing in AI research and development, driving innovation in the field. Additionally, startups are making significant contributions to AI by bringing fresh perspectives and ideas to the table. Research institutions and universities are also at the forefront of AI research, pushing the boundaries of what is possible with AI technology.\n",
      "\n",
      "## Noteworthy News in AI\n",
      "\n",
      "Recent breakthroughs in AI technology, such as the development of self-learning algorithms and autonomous systems, are reshaping the way we interact with AI. However, the impact of AI on the job market and society as a whole is a topic of concern, with questions arising about the displacement of human workers by AI systems. Regulatory developments related to AI implementation are also being closely monitored to ensure that AI technologies are developed and deployed ethically and responsibly.\n",
      "\n",
      "In conclusion, Artificial Intelligence is a transformative technology that is shaping the future of various industries. By staying informed about the latest trends, key players, and news in the AI industry, individuals can make informed decisions about how to leverage AI for their organizations and prepare for the future of AI technology. Stay informed by subscribing to our newsletter and following us on social media for regular updates on AI advancements.\n",
      "\n",
      "\u001b[00m\n",
      "\u001b[1m\u001b[95m [DEBUG]: == Working Agent: Editor\u001b[00m\n",
      "\u001b[1m\u001b[95m [INFO]: == Starting Task: Proofread the given blog post for grammatical errors and alignment with the brand's voice.\u001b[00m\n",
      "\n",
      "\n",
      "\u001b[1m> Entering new CrewAgentExecutor chain...\u001b[0m\n"
     ]
    },
    {
     "name": "stdout",
     "output_type": "stream",
     "text": [
      "\u001b[32;1m\u001b[1;3mI now can give a great answer\n",
      "\n",
      "Final Answer: \n",
      "\n",
      "# The Future of Artificial Intelligence: Trends, Players, and News\n",
      "\n",
      "## Introduction\n",
      "\n",
      "Artificial Intelligence (AI) is a rapidly evolving technology that simulates human intelligence to perform tasks such as speech recognition, decision-making, and visual perception. Its importance in various industries cannot be overstated, as AI has the potential to revolutionize healthcare, finance, automotive, and many other sectors. The latest trends in AI showcase advancements in machine learning and deep learning, the rise of AI-powered chatbots and virtual assistants, an increased focus on ethical AI practices, and the expansion of AI across different industries.\n",
      "\n",
      "## Latest Trends in AI\n",
      "\n",
      "One of the most exciting trends in AI is the advancements in machine learning and deep learning algorithms, which have significantly improved the capabilities of AI systems. This has led to the rise of AI-powered chatbots and virtual assistants that are becoming increasingly integrated into everyday life. Moreover, there is a growing emphasis on ethical AI practices to ensure that AI technologies are developed and deployed responsibly. AI is also making significant strides in healthcare, finance, and the automotive industry, where it is being used to enhance decision-making processes and improve overall efficiency.\n",
      "\n",
      "## Key Players in the AI Industry\n",
      "\n",
      "Leading tech companies such as Google, Amazon, and Microsoft are heavily investing in AI research and development, driving innovation in the field. Additionally, startups are making significant contributions to AI by bringing fresh perspectives and ideas to the table. Research institutions and universities are also at the forefront of AI research, pushing the boundaries of what is possible with AI technology.\n",
      "\n",
      "## Noteworthy News in AI\n",
      "\n",
      "Recent breakthroughs in AI technology, such as the development of self-learning algorithms and autonomous systems, are reshaping the way we interact with AI. However, the impact of AI on the job market and society as a whole is a topic of concern, with questions arising about the displacement of human workers by AI systems. Regulatory developments related to AI implementation are also being closely monitored to ensure that AI technologies are developed and deployed ethically and responsibly.\n",
      "\n",
      "In conclusion, Artificial Intelligence is a transformative technology that is shaping the future of various industries. By staying informed about the latest trends, key players, and news in the AI industry, individuals can make informed decisions about how to leverage AI for their organizations and prepare for the future of AI technology. Stay informed by subscribing to our newsletter and following us on social media for regular updates on AI advancements.\u001b[0m\n",
      "\n",
      "\u001b[1m> Finished chain.\u001b[0m\n",
      "\u001b[1m\u001b[92m [DEBUG]: == [Editor] Task output: # The Future of Artificial Intelligence: Trends, Players, and News\n",
      "\n",
      "## Introduction\n",
      "\n",
      "Artificial Intelligence (AI) is a rapidly evolving technology that simulates human intelligence to perform tasks such as speech recognition, decision-making, and visual perception. Its importance in various industries cannot be overstated, as AI has the potential to revolutionize healthcare, finance, automotive, and many other sectors. The latest trends in AI showcase advancements in machine learning and deep learning, the rise of AI-powered chatbots and virtual assistants, an increased focus on ethical AI practices, and the expansion of AI across different industries.\n",
      "\n",
      "## Latest Trends in AI\n",
      "\n",
      "One of the most exciting trends in AI is the advancements in machine learning and deep learning algorithms, which have significantly improved the capabilities of AI systems. This has led to the rise of AI-powered chatbots and virtual assistants that are becoming increasingly integrated into everyday life. Moreover, there is a growing emphasis on ethical AI practices to ensure that AI technologies are developed and deployed responsibly. AI is also making significant strides in healthcare, finance, and the automotive industry, where it is being used to enhance decision-making processes and improve overall efficiency.\n",
      "\n",
      "## Key Players in the AI Industry\n",
      "\n",
      "Leading tech companies such as Google, Amazon, and Microsoft are heavily investing in AI research and development, driving innovation in the field. Additionally, startups are making significant contributions to AI by bringing fresh perspectives and ideas to the table. Research institutions and universities are also at the forefront of AI research, pushing the boundaries of what is possible with AI technology.\n",
      "\n",
      "## Noteworthy News in AI\n",
      "\n",
      "Recent breakthroughs in AI technology, such as the development of self-learning algorithms and autonomous systems, are reshaping the way we interact with AI. However, the impact of AI on the job market and society as a whole is a topic of concern, with questions arising about the displacement of human workers by AI systems. Regulatory developments related to AI implementation are also being closely monitored to ensure that AI technologies are developed and deployed ethically and responsibly.\n",
      "\n",
      "In conclusion, Artificial Intelligence is a transformative technology that is shaping the future of various industries. By staying informed about the latest trends, key players, and news in the AI industry, individuals can make informed decisions about how to leverage AI for their organizations and prepare for the future of AI technology. Stay informed by subscribing to our newsletter and following us on social media for regular updates on AI advancements.\n",
      "\n",
      "\u001b[00m\n"
     ]
    }
   ],
   "source": [
    "result = crew.kickoff(inputs={\"topic\": \"Artificial Intelligence\"})"
   ]
  },
  {
   "cell_type": "markdown",
   "metadata": {},
   "source": [
    "- Display the results of your execution as markdown in the notebook."
   ]
  },
  {
   "cell_type": "code",
   "execution_count": 12,
   "metadata": {
    "height": 47
   },
   "outputs": [
    {
     "data": {
      "text/markdown": [
       "# The Future of Artificial Intelligence: Trends, Players, and News\n",
       "\n",
       "## Introduction\n",
       "\n",
       "Artificial Intelligence (AI) is a rapidly evolving technology that simulates human intelligence to perform tasks such as speech recognition, decision-making, and visual perception. Its importance in various industries cannot be overstated, as AI has the potential to revolutionize healthcare, finance, automotive, and many other sectors. The latest trends in AI showcase advancements in machine learning and deep learning, the rise of AI-powered chatbots and virtual assistants, an increased focus on ethical AI practices, and the expansion of AI across different industries.\n",
       "\n",
       "## Latest Trends in AI\n",
       "\n",
       "One of the most exciting trends in AI is the advancements in machine learning and deep learning algorithms, which have significantly improved the capabilities of AI systems. This has led to the rise of AI-powered chatbots and virtual assistants that are becoming increasingly integrated into everyday life. Moreover, there is a growing emphasis on ethical AI practices to ensure that AI technologies are developed and deployed responsibly. AI is also making significant strides in healthcare, finance, and the automotive industry, where it is being used to enhance decision-making processes and improve overall efficiency.\n",
       "\n",
       "## Key Players in the AI Industry\n",
       "\n",
       "Leading tech companies such as Google, Amazon, and Microsoft are heavily investing in AI research and development, driving innovation in the field. Additionally, startups are making significant contributions to AI by bringing fresh perspectives and ideas to the table. Research institutions and universities are also at the forefront of AI research, pushing the boundaries of what is possible with AI technology.\n",
       "\n",
       "## Noteworthy News in AI\n",
       "\n",
       "Recent breakthroughs in AI technology, such as the development of self-learning algorithms and autonomous systems, are reshaping the way we interact with AI. However, the impact of AI on the job market and society as a whole is a topic of concern, with questions arising about the displacement of human workers by AI systems. Regulatory developments related to AI implementation are also being closely monitored to ensure that AI technologies are developed and deployed ethically and responsibly.\n",
       "\n",
       "In conclusion, Artificial Intelligence is a transformative technology that is shaping the future of various industries. By staying informed about the latest trends, key players, and news in the AI industry, individuals can make informed decisions about how to leverage AI for their organizations and prepare for the future of AI technology. Stay informed by subscribing to our newsletter and following us on social media for regular updates on AI advancements."
      ],
      "text/plain": [
       "<IPython.core.display.Markdown object>"
      ]
     },
     "execution_count": 12,
     "metadata": {},
     "output_type": "execute_result"
    }
   ],
   "source": [
    "from IPython.display import Markdown\n",
    "Markdown(result)"
   ]
  },
  {
   "cell_type": "markdown",
   "metadata": {},
   "source": [
    "## Try it Yourself\n",
    "\n",
    "- Pass in a topic of your choice and see what the agents come up with!"
   ]
  },
  {
   "cell_type": "code",
   "execution_count": 13,
   "metadata": {
    "height": 47
   },
   "outputs": [
    {
     "name": "stdout",
     "output_type": "stream",
     "text": [
      "\u001b[1m\u001b[95m [DEBUG]: == Working Agent: Content Planner\u001b[00m\n",
      "\u001b[1m\u001b[95m [INFO]: == Starting Task: 1. Prioritize the latest trends, key players, and noteworthy news on Nifty50 and Sensex in Indian Stock Market.\n",
      "2. Identify the target audience, considering their interests and pain points.\n",
      "3. Develop a detailed content outline including an introduction, key points, and a call to action.\n",
      "4. Include SEO keywords and relevant data or sources.\u001b[00m\n",
      "\n",
      "\n",
      "\u001b[1m> Entering new CrewAgentExecutor chain...\u001b[0m\n",
      "\u001b[32;1m\u001b[1;3mI now can give a great answer\n",
      "\n",
      "Final Answer:\n",
      "\n",
      "Content Plan:\n",
      "\n",
      "Title: Understanding Nifty50 and Sensex in the Indian Stock Market: Key Trends and Analysis\n",
      "\n",
      "Introduction:\n",
      "- Brief explanation of the Nifty50 and Sensex indices\n",
      "- Importance of tracking these indices in the Indian stock market\n",
      "- Overview of the latest trends and key players in the market\n",
      "\n",
      "Key Points:\n",
      "1. Latest Trends in Nifty50 and Sensex:\n",
      "- Analysis of recent market performance\n",
      "- Impact of global economic factors on the Indian stock market\n",
      "- Noteworthy fluctuations or patterns in the indices\n",
      "\n",
      "2. Key Players in the Indian Stock Market:\n",
      "- Overview of major companies listed on the Nifty50 and Sensex\n",
      "- Analysis of top performers and market influencers\n",
      "- Comparison of sector-wise performance in the market\n",
      "\n",
      "3. Noteworthy News Updates:\n",
      "- Recent developments in the Indian stock market\n",
      "- Regulatory changes affecting the market\n",
      "- Analyst predictions and market forecasts\n",
      "\n",
      "Audience Analysis:\n",
      "Target Audience: \n",
      "- Investors looking to diversify their portfolio\n",
      "- Traders seeking to capitalize on market trends\n",
      "- Finance professionals and analysts interested in Indian markets\n",
      "\n",
      "Interests:\n",
      "- Understanding the dynamics of the Indian stock market\n",
      "- Making informed investment decisions\n",
      "- Staying updated on market trends and news\n",
      "\n",
      "Pain Points:\n",
      "- Lack of reliable information on Nifty50 and Sensex\n",
      "- Difficulty in interpreting market data and trends\n",
      "- Uncertainty about the future of the Indian stock market\n",
      "\n",
      "SEO Keywords:\n",
      "- Nifty50\n",
      "- Sensex\n",
      "- Indian stock market\n",
      "- Market trends\n",
      "- Key players\n",
      "- Stock market analysis\n",
      "- Investment opportunities\n",
      "\n",
      "Resources:\n",
      "1. National Stock Exchange of India (NSE) website\n",
      "2. Bombay Stock Exchange (BSE) website\n",
      "3. Financial news websites like Moneycontrol, Economic Times\n",
      "4. Market research reports from leading financial institutions\n",
      "\n",
      "Conclusion:\n",
      "- Recap of key points discussed in the article\n",
      "- Encouragement for the audience to stay informed and proactive in their market analysis\n",
      "- Call to action for further reading or consultation with financial advisors.\u001b[0m\n",
      "\n",
      "\u001b[1m> Finished chain.\u001b[0m\n",
      "\u001b[1m\u001b[92m [DEBUG]: == [Content Planner] Task output: Content Plan:\n",
      "\n",
      "Title: Understanding Nifty50 and Sensex in the Indian Stock Market: Key Trends and Analysis\n",
      "\n",
      "Introduction:\n",
      "- Brief explanation of the Nifty50 and Sensex indices\n",
      "- Importance of tracking these indices in the Indian stock market\n",
      "- Overview of the latest trends and key players in the market\n",
      "\n",
      "Key Points:\n",
      "1. Latest Trends in Nifty50 and Sensex:\n",
      "- Analysis of recent market performance\n",
      "- Impact of global economic factors on the Indian stock market\n",
      "- Noteworthy fluctuations or patterns in the indices\n",
      "\n",
      "2. Key Players in the Indian Stock Market:\n",
      "- Overview of major companies listed on the Nifty50 and Sensex\n",
      "- Analysis of top performers and market influencers\n",
      "- Comparison of sector-wise performance in the market\n",
      "\n",
      "3. Noteworthy News Updates:\n",
      "- Recent developments in the Indian stock market\n",
      "- Regulatory changes affecting the market\n",
      "- Analyst predictions and market forecasts\n",
      "\n",
      "Audience Analysis:\n",
      "Target Audience: \n",
      "- Investors looking to diversify their portfolio\n",
      "- Traders seeking to capitalize on market trends\n",
      "- Finance professionals and analysts interested in Indian markets\n",
      "\n",
      "Interests:\n",
      "- Understanding the dynamics of the Indian stock market\n",
      "- Making informed investment decisions\n",
      "- Staying updated on market trends and news\n",
      "\n",
      "Pain Points:\n",
      "- Lack of reliable information on Nifty50 and Sensex\n",
      "- Difficulty in interpreting market data and trends\n",
      "- Uncertainty about the future of the Indian stock market\n",
      "\n",
      "SEO Keywords:\n",
      "- Nifty50\n",
      "- Sensex\n",
      "- Indian stock market\n",
      "- Market trends\n",
      "- Key players\n",
      "- Stock market analysis\n",
      "- Investment opportunities\n",
      "\n",
      "Resources:\n",
      "1. National Stock Exchange of India (NSE) website\n",
      "2. Bombay Stock Exchange (BSE) website\n",
      "3. Financial news websites like Moneycontrol, Economic Times\n",
      "4. Market research reports from leading financial institutions\n",
      "\n",
      "Conclusion:\n",
      "- Recap of key points discussed in the article\n",
      "- Encouragement for the audience to stay informed and proactive in their market analysis\n",
      "- Call to action for further reading or consultation with financial advisors.\n",
      "\n",
      "\u001b[00m\n",
      "\u001b[1m\u001b[95m [DEBUG]: == Working Agent: Content Writer\u001b[00m\n",
      "\u001b[1m\u001b[95m [INFO]: == Starting Task: 1. Use the content plan to craft a compelling blog post on Nifty50 and Sensex in Indian Stock Market.\n",
      "2. Incorporate SEO keywords naturally.\n",
      "3. Sections/Subtitles are properly named in an engaging manner.\n",
      "4. Ensure the post is structured with an engaging introduction, insightful body, and a summarizing conclusion.\n",
      "5. Proofread for grammatical errors and alignment with the brand's voice.\n",
      "\u001b[00m\n",
      "\n",
      "\n",
      "\u001b[1m> Entering new CrewAgentExecutor chain...\u001b[0m\n",
      "\u001b[32;1m\u001b[1;3mI now can give a great answer\n",
      "\n",
      "Final Answer:\n",
      "\n",
      "# Understanding Nifty50 and Sensex in the Indian Stock Market: Key Trends and Analysis\n",
      "\n",
      "## Introduction\n",
      "\n",
      "The Nifty50 and Sensex are two prominent stock market indices in India that play a crucial role in tracking the overall performance of the Indian stock market. The Nifty50 index represents the performance of the top 50 companies listed on the National Stock Exchange (NSE), while the Sensex tracks the 30 largest and most actively traded stocks on the Bombay Stock Exchange (BSE). Understanding these indices is essential for investors, traders, and finance professionals to make informed decisions and capitalize on market opportunities. In this article, we will delve into the latest trends and analysis of the Nifty50 and Sensex, highlighting key players and providing insights into the Indian stock market.\n",
      "\n",
      "## Latest Trends in Nifty50 and Sensex\n",
      "\n",
      "In recent times, the Indian stock market has witnessed significant fluctuations driven by a combination of domestic and global economic factors. The performance of the Nifty50 and Sensex is closely linked to global market trends, geopolitical events, and macroeconomic indicators. Analysts have been closely monitoring the impact of the COVID-19 pandemic, geopolitical tensions, and government policies on the Indian stock market. Noteworthy fluctuations in the indices have reflected investor sentiments and market volatility, creating both challenges and opportunities for market participants.\n",
      "\n",
      "## Key Players in the Indian Stock Market\n",
      "\n",
      "The Nifty50 and Sensex comprise some of the largest and most influential companies in India across various sectors such as IT, banking, healthcare, and energy. Companies like Reliance Industries, Infosys, HDFC Bank, and Tata Consultancy Services are among the top performers on these indices, driving market trends and influencing investor decisions. Sector-wise performance analysis reveals the strengths and weaknesses of different industries, providing valuable insights for portfolio diversification and investment strategies. Understanding the key players in the Indian stock market is essential for identifying potential investment opportunities and mitigating risks.\n",
      "\n",
      "## Noteworthy News Updates\n",
      "\n",
      "Staying updated on the latest developments in the Indian stock market is crucial for making informed investment decisions. Regulatory changes, mergers, acquisitions, and corporate earnings reports can significantly impact stock prices and market dynamics. Analyst predictions and market forecasts offer valuable insights into future trends and investment opportunities. Investors, traders, and finance professionals rely on reliable sources such as financial news websites and market research reports to stay ahead of market trends and capitalize on emerging opportunities.\n",
      "\n",
      "## Conclusion\n",
      "\n",
      "In conclusion, tracking the Nifty50 and Sensex indices provides valuable insights into the dynamics of the Indian stock market and helps investors navigate through market uncertainties. By analyzing key trends, understanding market players, and staying informed about market news, investors can make informed decisions and optimize their investment portfolios. It is essential for the audience to stay proactive in their market analysis, seek advice from financial advisors, and continue learning about investment opportunities in the ever-evolving Indian stock market landscape. Stay informed, stay proactive, and seize the opportunities that the Indian stock market presents.\u001b[0m\n",
      "\n",
      "\u001b[1m> Finished chain.\u001b[0m\n",
      "\u001b[1m\u001b[92m [DEBUG]: == [Content Writer] Task output: # Understanding Nifty50 and Sensex in the Indian Stock Market: Key Trends and Analysis\n",
      "\n",
      "## Introduction\n",
      "\n",
      "The Nifty50 and Sensex are two prominent stock market indices in India that play a crucial role in tracking the overall performance of the Indian stock market. The Nifty50 index represents the performance of the top 50 companies listed on the National Stock Exchange (NSE), while the Sensex tracks the 30 largest and most actively traded stocks on the Bombay Stock Exchange (BSE). Understanding these indices is essential for investors, traders, and finance professionals to make informed decisions and capitalize on market opportunities. In this article, we will delve into the latest trends and analysis of the Nifty50 and Sensex, highlighting key players and providing insights into the Indian stock market.\n",
      "\n",
      "## Latest Trends in Nifty50 and Sensex\n",
      "\n",
      "In recent times, the Indian stock market has witnessed significant fluctuations driven by a combination of domestic and global economic factors. The performance of the Nifty50 and Sensex is closely linked to global market trends, geopolitical events, and macroeconomic indicators. Analysts have been closely monitoring the impact of the COVID-19 pandemic, geopolitical tensions, and government policies on the Indian stock market. Noteworthy fluctuations in the indices have reflected investor sentiments and market volatility, creating both challenges and opportunities for market participants.\n",
      "\n",
      "## Key Players in the Indian Stock Market\n",
      "\n",
      "The Nifty50 and Sensex comprise some of the largest and most influential companies in India across various sectors such as IT, banking, healthcare, and energy. Companies like Reliance Industries, Infosys, HDFC Bank, and Tata Consultancy Services are among the top performers on these indices, driving market trends and influencing investor decisions. Sector-wise performance analysis reveals the strengths and weaknesses of different industries, providing valuable insights for portfolio diversification and investment strategies. Understanding the key players in the Indian stock market is essential for identifying potential investment opportunities and mitigating risks.\n",
      "\n",
      "## Noteworthy News Updates\n",
      "\n",
      "Staying updated on the latest developments in the Indian stock market is crucial for making informed investment decisions. Regulatory changes, mergers, acquisitions, and corporate earnings reports can significantly impact stock prices and market dynamics. Analyst predictions and market forecasts offer valuable insights into future trends and investment opportunities. Investors, traders, and finance professionals rely on reliable sources such as financial news websites and market research reports to stay ahead of market trends and capitalize on emerging opportunities.\n",
      "\n",
      "## Conclusion\n",
      "\n",
      "In conclusion, tracking the Nifty50 and Sensex indices provides valuable insights into the dynamics of the Indian stock market and helps investors navigate through market uncertainties. By analyzing key trends, understanding market players, and staying informed about market news, investors can make informed decisions and optimize their investment portfolios. It is essential for the audience to stay proactive in their market analysis, seek advice from financial advisors, and continue learning about investment opportunities in the ever-evolving Indian stock market landscape. Stay informed, stay proactive, and seize the opportunities that the Indian stock market presents.\n",
      "\n",
      "\u001b[00m\n",
      "\u001b[1m\u001b[95m [DEBUG]: == Working Agent: Editor\u001b[00m\n",
      "\u001b[1m\u001b[95m [INFO]: == Starting Task: Proofread the given blog post for grammatical errors and alignment with the brand's voice.\u001b[00m\n",
      "\n",
      "\n",
      "\u001b[1m> Entering new CrewAgentExecutor chain...\u001b[0m\n"
     ]
    },
    {
     "name": "stdout",
     "output_type": "stream",
     "text": [
      "\u001b[32;1m\u001b[1;3mI now can give a great answer\n",
      "\n",
      "Final Answer:\n",
      "# Understanding Nifty50 and Sensex in the Indian Stock Market: Key Trends and Analysis\n",
      "\n",
      "## Introduction\n",
      "\n",
      "The Nifty50 and Sensex are two prominent stock market indices in India that play a crucial role in tracking the overall performance of the Indian stock market. The Nifty50 index represents the performance of the top 50 companies listed on the National Stock Exchange (NSE), while the Sensex tracks the 30 largest and most actively traded stocks on the Bombay Stock Exchange (BSE). Understanding these indices is essential for investors, traders, and finance professionals to make informed decisions and capitalize on market opportunities. In this article, we will delve into the latest trends and analysis of the Nifty50 and Sensex, highlighting key players and providing insights into the Indian stock market.\n",
      "\n",
      "## Latest Trends in Nifty50 and Sensex\n",
      "\n",
      "In recent times, the Indian stock market has witnessed significant fluctuations driven by a combination of domestic and global economic factors. The performance of the Nifty50 and Sensex is closely linked to global market trends, geopolitical events, and macroeconomic indicators. Analysts have been closely monitoring the impact of the COVID-19 pandemic, geopolitical tensions, and government policies on the Indian stock market. Noteworthy fluctuations in the indices have reflected investor sentiments and market volatility, creating both challenges and opportunities for market participants.\n",
      "\n",
      "## Key Players in the Indian Stock Market\n",
      "\n",
      "The Nifty50 and Sensex comprise some of the largest and most influential companies in India across various sectors such as IT, banking, healthcare, and energy. Companies like Reliance Industries, Infosys, HDFC Bank, and Tata Consultancy Services are among the top performers on these indices, driving market trends and influencing investor decisions. Sector-wise performance analysis reveals the strengths and weaknesses of different industries, providing valuable insights for portfolio diversification and investment strategies. Understanding the key players in the Indian stock market is essential for identifying potential investment opportunities and mitigating risks.\n",
      "\n",
      "## Noteworthy News Updates\n",
      "\n",
      "Staying updated on the latest developments in the Indian stock market is crucial for making informed investment decisions. Regulatory changes, mergers, acquisitions, and corporate earnings reports can significantly impact stock prices and market dynamics. Analyst predictions and market forecasts offer valuable insights into future trends and investment opportunities. Investors, traders, and finance professionals rely on reliable sources such as financial news websites and market research reports to stay ahead of market trends and capitalize on emerging opportunities.\n",
      "\n",
      "## Conclusion\n",
      "\n",
      "In conclusion, tracking the Nifty50 and Sensex indices provides valuable insights into the dynamics of the Indian stock market and helps investors navigate through market uncertainties. By analyzing key trends, understanding market players, and staying informed about market news, investors can make informed decisions and optimize their investment portfolios. It is essential for the audience to stay proactive in their market analysis, seek advice from financial advisors, and continue learning about investment opportunities in the ever-evolving Indian stock market landscape. Stay informed, stay proactive, and seize the opportunities that the Indian stock market presents.\u001b[0m\n",
      "\n",
      "\u001b[1m> Finished chain.\u001b[0m\n",
      "\u001b[1m\u001b[92m [DEBUG]: == [Editor] Task output: # Understanding Nifty50 and Sensex in the Indian Stock Market: Key Trends and Analysis\n",
      "\n",
      "## Introduction\n",
      "\n",
      "The Nifty50 and Sensex are two prominent stock market indices in India that play a crucial role in tracking the overall performance of the Indian stock market. The Nifty50 index represents the performance of the top 50 companies listed on the National Stock Exchange (NSE), while the Sensex tracks the 30 largest and most actively traded stocks on the Bombay Stock Exchange (BSE). Understanding these indices is essential for investors, traders, and finance professionals to make informed decisions and capitalize on market opportunities. In this article, we will delve into the latest trends and analysis of the Nifty50 and Sensex, highlighting key players and providing insights into the Indian stock market.\n",
      "\n",
      "## Latest Trends in Nifty50 and Sensex\n",
      "\n",
      "In recent times, the Indian stock market has witnessed significant fluctuations driven by a combination of domestic and global economic factors. The performance of the Nifty50 and Sensex is closely linked to global market trends, geopolitical events, and macroeconomic indicators. Analysts have been closely monitoring the impact of the COVID-19 pandemic, geopolitical tensions, and government policies on the Indian stock market. Noteworthy fluctuations in the indices have reflected investor sentiments and market volatility, creating both challenges and opportunities for market participants.\n",
      "\n",
      "## Key Players in the Indian Stock Market\n",
      "\n",
      "The Nifty50 and Sensex comprise some of the largest and most influential companies in India across various sectors such as IT, banking, healthcare, and energy. Companies like Reliance Industries, Infosys, HDFC Bank, and Tata Consultancy Services are among the top performers on these indices, driving market trends and influencing investor decisions. Sector-wise performance analysis reveals the strengths and weaknesses of different industries, providing valuable insights for portfolio diversification and investment strategies. Understanding the key players in the Indian stock market is essential for identifying potential investment opportunities and mitigating risks.\n",
      "\n",
      "## Noteworthy News Updates\n",
      "\n",
      "Staying updated on the latest developments in the Indian stock market is crucial for making informed investment decisions. Regulatory changes, mergers, acquisitions, and corporate earnings reports can significantly impact stock prices and market dynamics. Analyst predictions and market forecasts offer valuable insights into future trends and investment opportunities. Investors, traders, and finance professionals rely on reliable sources such as financial news websites and market research reports to stay ahead of market trends and capitalize on emerging opportunities.\n",
      "\n",
      "## Conclusion\n",
      "\n",
      "In conclusion, tracking the Nifty50 and Sensex indices provides valuable insights into the dynamics of the Indian stock market and helps investors navigate through market uncertainties. By analyzing key trends, understanding market players, and staying informed about market news, investors can make informed decisions and optimize their investment portfolios. It is essential for the audience to stay proactive in their market analysis, seek advice from financial advisors, and continue learning about investment opportunities in the ever-evolving Indian stock market landscape. Stay informed, stay proactive, and seize the opportunities that the Indian stock market presents.\n",
      "\n",
      "\u001b[00m\n"
     ]
    }
   ],
   "source": [
    "topic = \"Nifty50 and Sensex in Indian Stock Market\"\n",
    "result = crew.kickoff(inputs={\"topic\": topic})"
   ]
  },
  {
   "cell_type": "code",
   "execution_count": 14,
   "metadata": {
    "height": 30
   },
   "outputs": [
    {
     "data": {
      "text/markdown": [
       "# Understanding Nifty50 and Sensex in the Indian Stock Market: Key Trends and Analysis\n",
       "\n",
       "## Introduction\n",
       "\n",
       "The Nifty50 and Sensex are two prominent stock market indices in India that play a crucial role in tracking the overall performance of the Indian stock market. The Nifty50 index represents the performance of the top 50 companies listed on the National Stock Exchange (NSE), while the Sensex tracks the 30 largest and most actively traded stocks on the Bombay Stock Exchange (BSE). Understanding these indices is essential for investors, traders, and finance professionals to make informed decisions and capitalize on market opportunities. In this article, we will delve into the latest trends and analysis of the Nifty50 and Sensex, highlighting key players and providing insights into the Indian stock market.\n",
       "\n",
       "## Latest Trends in Nifty50 and Sensex\n",
       "\n",
       "In recent times, the Indian stock market has witnessed significant fluctuations driven by a combination of domestic and global economic factors. The performance of the Nifty50 and Sensex is closely linked to global market trends, geopolitical events, and macroeconomic indicators. Analysts have been closely monitoring the impact of the COVID-19 pandemic, geopolitical tensions, and government policies on the Indian stock market. Noteworthy fluctuations in the indices have reflected investor sentiments and market volatility, creating both challenges and opportunities for market participants.\n",
       "\n",
       "## Key Players in the Indian Stock Market\n",
       "\n",
       "The Nifty50 and Sensex comprise some of the largest and most influential companies in India across various sectors such as IT, banking, healthcare, and energy. Companies like Reliance Industries, Infosys, HDFC Bank, and Tata Consultancy Services are among the top performers on these indices, driving market trends and influencing investor decisions. Sector-wise performance analysis reveals the strengths and weaknesses of different industries, providing valuable insights for portfolio diversification and investment strategies. Understanding the key players in the Indian stock market is essential for identifying potential investment opportunities and mitigating risks.\n",
       "\n",
       "## Noteworthy News Updates\n",
       "\n",
       "Staying updated on the latest developments in the Indian stock market is crucial for making informed investment decisions. Regulatory changes, mergers, acquisitions, and corporate earnings reports can significantly impact stock prices and market dynamics. Analyst predictions and market forecasts offer valuable insights into future trends and investment opportunities. Investors, traders, and finance professionals rely on reliable sources such as financial news websites and market research reports to stay ahead of market trends and capitalize on emerging opportunities.\n",
       "\n",
       "## Conclusion\n",
       "\n",
       "In conclusion, tracking the Nifty50 and Sensex indices provides valuable insights into the dynamics of the Indian stock market and helps investors navigate through market uncertainties. By analyzing key trends, understanding market players, and staying informed about market news, investors can make informed decisions and optimize their investment portfolios. It is essential for the audience to stay proactive in their market analysis, seek advice from financial advisors, and continue learning about investment opportunities in the ever-evolving Indian stock market landscape. Stay informed, stay proactive, and seize the opportunities that the Indian stock market presents."
      ],
      "text/plain": [
       "<IPython.core.display.Markdown object>"
      ]
     },
     "execution_count": 14,
     "metadata": {},
     "output_type": "execute_result"
    }
   ],
   "source": [
    "Markdown(result)"
   ]
  },
  {
   "cell_type": "markdown",
   "metadata": {},
   "source": [
    "<a name='1'></a>\n",
    " ## Other Popular Models as LLM for your Agents"
   ]
  },
  {
   "cell_type": "markdown",
   "metadata": {},
   "source": [
    "#### Hugging Face (HuggingFaceHub endpoint)\n",
    "\n",
    "```Python\n",
    "from langchain_community.llms import HuggingFaceHub\n",
    "\n",
    "llm = HuggingFaceHub(\n",
    "    repo_id=\"HuggingFaceH4/zephyr-7b-beta\",\n",
    "    huggingfacehub_api_token=\"<HF_TOKEN_HERE>\",\n",
    "    task=\"text-generation\",\n",
    ")\n",
    "\n",
    "### you will pass \"llm\" to your agent function\n",
    "```"
   ]
  },
  {
   "cell_type": "markdown",
   "metadata": {},
   "source": [
    "#### Mistral API\n",
    "\n",
    "```Python\n",
    "OPENAI_API_KEY=your-mistral-api-key\n",
    "OPENAI_API_BASE=https://api.mistral.ai/v1\n",
    "OPENAI_MODEL_NAME=\"mistral-small\"\n",
    "```"
   ]
  },
  {
   "cell_type": "markdown",
   "metadata": {},
   "source": [
    "#### Cohere\n",
    "\n",
    "```Python\n",
    "from langchain_community.chat_models import ChatCohere\n",
    "# Initialize language model\n",
    "os.environ[\"COHERE_API_KEY\"] = \"your-cohere-api-key\"\n",
    "llm = ChatCohere()\n",
    "\n",
    "### you will pass \"llm\" to your agent function\n",
    "```"
   ]
  },
  {
   "cell_type": "markdown",
   "metadata": {},
   "source": [
    "### For using Llama locally with Ollama and more, checkout the crewAI documentation on [Connecting to any LLM](https://docs.crewai.com/how-to/LLM-Connections/)."
   ]
  },
  {
   "cell_type": "code",
   "execution_count": null,
   "metadata": {
    "height": 30
   },
   "outputs": [],
   "source": []
  },
  {
   "cell_type": "code",
   "execution_count": null,
   "metadata": {
    "height": 30
   },
   "outputs": [],
   "source": []
  },
  {
   "cell_type": "code",
   "execution_count": null,
   "metadata": {
    "height": 30
   },
   "outputs": [],
   "source": []
  }
 ],
 "metadata": {
  "colab": {
   "gpuType": "T4",
   "provenance": []
  },
  "kernelspec": {
   "display_name": "Python 3 (ipykernel)",
   "language": "python",
   "name": "python3"
  },
  "language_info": {
   "codemirror_mode": {
    "name": "ipython",
    "version": 3
   },
   "file_extension": ".py",
   "mimetype": "text/x-python",
   "name": "python",
   "nbconvert_exporter": "python",
   "pygments_lexer": "ipython3",
   "version": "3.11.9"
  }
 },
 "nbformat": 4,
 "nbformat_minor": 4
}
