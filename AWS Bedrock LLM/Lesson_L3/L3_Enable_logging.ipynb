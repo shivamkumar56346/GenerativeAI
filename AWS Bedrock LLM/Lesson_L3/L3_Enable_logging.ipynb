{
 "cells": [
  {
   "cell_type": "markdown",
   "id": "cc6b7b9f-a75d-4b78-930f-26d2343ac2c2",
   "metadata": {},
   "source": [
    "# Lesson 3: Enable Logging"
   ]
  },
  {
   "cell_type": "markdown",
   "id": "06fc5839-0b4b-42a3-9aaf-99a97e347955",
   "metadata": {},
   "source": [
    "### Import all needed packages"
   ]
  },
  {
   "cell_type": "code",
   "execution_count": 1,
   "id": "63cf31e4",
   "metadata": {
    "height": 98
   },
   "outputs": [],
   "source": [
    "import boto3\n",
    "import json\n",
    "import os\n",
    "\n",
    "bedrock = boto3.client('bedrock', region_name=\"us-west-2\")"
   ]
  },
  {
   "cell_type": "code",
   "execution_count": 2,
   "id": "e5d9e31b",
   "metadata": {
    "height": 47
   },
   "outputs": [],
   "source": [
    "from helpers.CloudWatchHelper import CloudWatch_Helper\n",
    "cloudwatch = CloudWatch_Helper()"
   ]
  },
  {
   "cell_type": "code",
   "execution_count": 3,
   "id": "87a30e7e",
   "metadata": {
    "height": 30
   },
   "outputs": [],
   "source": [
    "log_group_name = '/my/amazon/bedrock/logs'"
   ]
  },
  {
   "cell_type": "code",
   "execution_count": 4,
   "id": "2461a51c",
   "metadata": {
    "height": 30
   },
   "outputs": [
    {
     "name": "stdout",
     "output_type": "stream",
     "text": [
      "Log group '/my/amazon/bedrock/logs' created successfully.\n"
     ]
    }
   ],
   "source": [
    "cloudwatch.create_log_group(log_group_name)"
   ]
  },
  {
   "cell_type": "code",
   "execution_count": 5,
   "id": "0afe5997",
   "metadata": {
    "height": 268
   },
   "outputs": [],
   "source": [
    "loggingConfig = {\n",
    "    'cloudWatchConfig': {\n",
    "        'logGroupName': log_group_name,\n",
    "        'roleArn': os.environ['LOGGINGROLEARN'],\n",
    "        'largeDataDeliveryS3Config': {\n",
    "            'bucketName': os.environ['LOGGINGBUCKETNAME'],\n",
    "            'keyPrefix': 'amazon_bedrock_large_data_delivery',\n",
    "        }\n",
    "    },\n",
    "    's3Config': {\n",
    "        'bucketName': os.environ['LOGGINGBUCKETNAME'],\n",
    "        'keyPrefix': 'amazon_bedrock_logs',\n",
    "    },\n",
    "    'textDataDeliveryEnabled': True,\n",
    "}"
   ]
  },
  {
   "cell_type": "code",
   "execution_count": 6,
   "id": "2ca33ffe",
   "metadata": {
    "height": 30
   },
   "outputs": [
    {
     "data": {
      "text/plain": [
       "{'ResponseMetadata': {'RequestId': 'd903b541-0cdc-4105-9bab-3fab414ecada',\n",
       "  'HTTPStatusCode': 200,\n",
       "  'HTTPHeaders': {'date': 'Sat, 23 Aug 2025 15:35:47 GMT',\n",
       "   'content-type': 'application/json',\n",
       "   'content-length': '2',\n",
       "   'connection': 'keep-alive',\n",
       "   'x-amzn-requestid': 'd903b541-0cdc-4105-9bab-3fab414ecada'},\n",
       "  'RetryAttempts': 0}}"
      ]
     },
     "execution_count": 6,
     "metadata": {},
     "output_type": "execute_result"
    }
   ],
   "source": [
    "bedrock.put_model_invocation_logging_configuration(loggingConfig=loggingConfig)"
   ]
  },
  {
   "cell_type": "code",
   "execution_count": 7,
   "id": "41fdb20d",
   "metadata": {
    "height": 30
   },
   "outputs": [
    {
     "data": {
      "text/plain": [
       "{'ResponseMetadata': {'RequestId': '98ee569b-1b11-40a6-bf9e-080aff1244ee',\n",
       "  'HTTPStatusCode': 200,\n",
       "  'HTTPHeaders': {'date': 'Sat, 23 Aug 2025 15:35:53 GMT',\n",
       "   'content-type': 'application/json',\n",
       "   'content-length': '604',\n",
       "   'connection': 'keep-alive',\n",
       "   'x-amzn-requestid': '98ee569b-1b11-40a6-bf9e-080aff1244ee'},\n",
       "  'RetryAttempts': 0},\n",
       " 'loggingConfig': {'cloudWatchConfig': {'logGroupName': '/my/amazon/bedrock/logs',\n",
       "   'roleArn': 'arn:aws:iam::165321677851:role/c99355a2566044l6701640t1w85161746173-LoggingIAMRole-jdO3yYiMrkUV',\n",
       "   'largeDataDeliveryS3Config': {'bucketName': 'c99355a2566044l6701640t1w851617461-loggings3bucket-qg73gbshugmc',\n",
       "    'keyPrefix': 'amazon_bedrock_large_data_delivery'}},\n",
       "  's3Config': {'bucketName': 'c99355a2566044l6701640t1w851617461-loggings3bucket-qg73gbshugmc',\n",
       "   'keyPrefix': 'amazon_bedrock_logs'},\n",
       "  'textDataDeliveryEnabled': True,\n",
       "  'imageDataDeliveryEnabled': True,\n",
       "  'embeddingDataDeliveryEnabled': True}}"
      ]
     },
     "execution_count": 7,
     "metadata": {},
     "output_type": "execute_result"
    }
   ],
   "source": [
    "bedrock.get_model_invocation_logging_configuration()"
   ]
  },
  {
   "cell_type": "code",
   "execution_count": 8,
   "id": "95ebecb7",
   "metadata": {
    "height": 30
   },
   "outputs": [],
   "source": [
    "bedrock_runtime = boto3.client('bedrock-runtime', region_name=\"us-west-2\")"
   ]
  },
  {
   "cell_type": "code",
   "execution_count": 9,
   "id": "402c6311",
   "metadata": {
    "height": 421
   },
   "outputs": [
    {
     "name": "stdout",
     "output_type": "stream",
     "text": [
      "\n",
      "Foobar is a fictional planet that exists in the science fiction novel series \"Star Wars.\" It is the homeworld of the native alien species known as the Yuzzum. The planet is located in the Outer Rim Territories of the galaxy, far from the core worlds of the Galactic Republic and the Galactic Empire.\n",
      "\n",
      "Foobar is a lush, green planet with a diverse ecosystem. It is home to numerous species of flora and fauna, including the Yuzzum, who are known for their unique appearance and their ability to communicate telepathically. The planet has a temperate climate, with warm summers and cool winters.\n",
      "\n",
      "The Yuzzum are a highly advanced species that have developed a technology that allows them to travel across the galaxy at incredible speeds. They have a strong sense of community and a deep respect for nature. The Yuzzum have a rich culture and history, and they have a complex social structure that includes a monarchy, a council of elders, and a military force.\n",
      "\n",
      "Foobar is a popular destination for travelers and adventurers in the galaxy. It is home to many exotic locations, including the Yuzzum city of Yuzza, which is a hub of commerce and culture. The planet is also home to many dangerous creatures, including the Yuzzum Hunter, a fierce predator that has a reputation for killing Yuzzum.\n",
      "\n",
      "The Yuzzum have been in conflict with the Galactic Republic and the Galactic Empire for centuries. They have been forced to fight for their independence and their right to live on their own planet. The Yuzzum have been successful in many of their battles, but they have also suffered many losses.\n",
      "\n",
      "In the Star Wars novel series, the Yuzzum are introduced to the Galactic Republic and the Galactic Empire when they are discovered by the Jedi Order. The Jedi are impressed by the Yuzzum's advanced technology and their ability to communicate telepathically, and they offer to help the Yuzzum fight against the Galactic Empire.\n",
      "\n",
      "The Yuzzum are initially hesitant to join the Galactic Republic, but they are eventually convinced by the Jedi's promise to help them defend their planet. They join the Galactic Republic and become a member of the Jedi Order.\n",
      "\n",
      "Over the course of the Star Wars novel series, the Yuzzum become involved in many conflicts, including the Clone Wars and the Galactic Civil War. They play a significant role in the destruction of the Galactic Empire and the restoration of peace to the galaxy.\n",
      "\n",
      "Despite their success in the Star Wars novel series, the Y\n"
     ]
    }
   ],
   "source": [
    "prompt = \"Write an article about the fictional planet Foobar.\"\n",
    "\n",
    "kwargs = {\n",
    "    \"modelId\": \"amazon.titan-text-express-v1\",\n",
    "    \"contentType\": \"application/json\",\n",
    "    \"accept\": \"*/*\",\n",
    "    \"body\": json.dumps(\n",
    "        {\n",
    "            \"inputText\": prompt,\n",
    "            \"textGenerationConfig\": {\n",
    "                \"maxTokenCount\": 512,\n",
    "                \"temperature\": 0.7,\n",
    "                \"topP\": 0.9\n",
    "            }\n",
    "        }\n",
    "    )\n",
    "}\n",
    "\n",
    "response = bedrock_runtime.invoke_model(**kwargs)\n",
    "response_body = json.loads(response.get('body').read())\n",
    "\n",
    "generation = response_body['results'][0]['outputText']\n",
    "\n",
    "print(generation)"
   ]
  },
  {
   "cell_type": "code",
   "execution_count": 10,
   "id": "68a7bab7",
   "metadata": {
    "height": 30
   },
   "outputs": [
    {
     "name": "stdout",
     "output_type": "stream",
     "text": [
      "Permissions are correctly set for Amazon Bedrock logs.\n",
      "-------------------------\n",
      "\n",
      "{\n",
      "    \"timestamp\": \"2025-08-23T15:36:20Z\",\n",
      "    \"accountId\": \"165321677851\",\n",
      "    \"identity\": {\n",
      "        \"arn\": \"arn:aws:sts::165321677851:assumed-role/voclabs/user3280228=0\"\n",
      "    },\n",
      "    \"region\": \"us-west-2\",\n",
      "    \"requestId\": \"5f628bc4-32c6-4e94-8698-27b5805de3d8\",\n",
      "    \"operation\": \"InvokeModel\",\n",
      "    \"modelId\": \"amazon.titan-text-express-v1\",\n",
      "    \"input\": {\n",
      "        \"inputContentType\": \"application/json\",\n",
      "        \"inputBodyJson\": {\n",
      "            \"inputText\": \"Write an article about the fictional planet Foobar.\",\n",
      "            \"textGenerationConfig\": {\n",
      "                \"maxTokenCount\": 512,\n",
      "                \"temperature\": 0.7,\n",
      "                \"topP\": 0.9\n",
      "            }\n",
      "        },\n",
      "        \"inputTokenCount\": 10\n",
      "    },\n",
      "    \"output\": {\n",
      "        \"outputContentType\": \"application/json\",\n",
      "        \"outputBodyJson\": {\n",
      "            \"inputTextTokenCount\": 10,\n",
      "            \"results\": [\n",
      "                {\n",
      "                    \"tokenCount\": 512,\n",
      "                    \"outputText\": \"\\nFoobar is a fictional planet that exists in the science fiction novel series \\\"Star Wars.\\\" It is the homeworld of the native alien species known as the Yuzzum. The planet is located in the Outer Rim Territories of the galaxy, far from the core worlds of the Galactic Republic and the Galactic Empire.\\n\\nFoobar is a lush, green planet with a diverse ecosystem. It is home to numerous species of flora and fauna, including the Yuzzum, who are known for their unique appearance and their ability to communicate telepathically. The planet has a temperate climate, with warm summers and cool winters.\\n\\nThe Yuzzum are a highly advanced species that have developed a technology that allows them to travel across the galaxy at incredible speeds. They have a strong sense of community and a deep respect for nature. The Yuzzum have a rich culture and history, and they have a complex social structure that includes a monarchy, a council of elders, and a military force.\\n\\nFoobar is a popular destination for travelers and adventurers in the galaxy. It is home to many exotic locations, including the Yuzzum city of Yuzza, which is a hub of commerce and culture. The planet is also home to many dangerous creatures, including the Yuzzum Hunter, a fierce predator that has a reputation for killing Yuzzum.\\n\\nThe Yuzzum have been in conflict with the Galactic Republic and the Galactic Empire for centuries. They have been forced to fight for their independence and their right to live on their own planet. The Yuzzum have been successful in many of their battles, but they have also suffered many losses.\\n\\nIn the Star Wars novel series, the Yuzzum are introduced to the Galactic Republic and the Galactic Empire when they are discovered by the Jedi Order. The Jedi are impressed by the Yuzzum's advanced technology and their ability to communicate telepathically, and they offer to help the Yuzzum fight against the Galactic Empire.\\n\\nThe Yuzzum are initially hesitant to join the Galactic Republic, but they are eventually convinced by the Jedi's promise to help them defend their planet. They join the Galactic Republic and become a member of the Jedi Order.\\n\\nOver the course of the Star Wars novel series, the Yuzzum become involved in many conflicts, including the Clone Wars and the Galactic Civil War. They play a significant role in the destruction of the Galactic Empire and the restoration of peace to the galaxy.\\n\\nDespite their success in the Star Wars novel series, the Y\",\n",
      "                    \"completionReason\": \"LENGTH\"\n",
      "                }\n",
      "            ]\n",
      "        },\n",
      "        \"outputTokenCount\": 512\n",
      "    },\n",
      "    \"schemaType\": \"ModelInvocationLog\",\n",
      "    \"schemaVersion\": \"1.0\"\n",
      "}\n",
      "-------------------------\n",
      "\n"
     ]
    }
   ],
   "source": [
    "cloudwatch.print_recent_logs(log_group_name)"
   ]
  },
  {
   "cell_type": "markdown",
   "id": "1118acfb",
   "metadata": {},
   "source": [
    "To review the logs within the AWS console, please use the following link to reference the steps outlined in the video:"
   ]
  },
  {
   "cell_type": "code",
   "execution_count": 11,
   "id": "2cf443d2",
   "metadata": {
    "height": 47
   },
   "outputs": [],
   "source": [
    "from IPython.display import HTML\n",
    "aws_url = os.environ['AWS_CONSOLE_URL']"
   ]
  },
  {
   "cell_type": "code",
   "execution_count": 12,
   "id": "0b7c904c",
   "metadata": {
    "height": 30
   },
   "outputs": [
    {
     "data": {
      "text/html": [
       "<a href=\"https://signin.aws.amazon.com/federation?Action=login&SigninToken=I5M9fC1lqN-I7ETt1kQcapcswoDPFMJbjJcR9QtMgz4ucMzOSBfIzVYIywvNc3LAptwhAUBXLSxKbbNCxwpJKTgm1E5qZT4b6n08ZwG8IqJAmqYhL3n0AEFP-imGc0pez-NOnkj0kEPoGXUMbMq6xoKmdtGJpM2N4vi61hS4Q0oLx92VBlH-6eZomLaNcTCTW98b2jrizcasYEswiQoMR7BTE-KQUMNlDvSBp4nA9qKaMrIJPZKX_hz6dUcaNtxo5xnfHchK0tZH1LoMjSQF_pHexa-QxefjI2V9XCdNJl8z1Hh0reEs46W-MKmQ_lhHvTWaYTNDRXg4s_naz_HANsUIfb3RfzXuGDDc0-WakZftM4O-64jabrGkR-O9xw_zZXypBTI4URrrmfnkjbfqegwJpTH6mPqluLHdy8MWIQupPQyEO_IuJdugrck3MnQYNqgHtMryRa0g1S9ckFbCRA4Fbf3UAH_TxTUrbcweeJC68kYw-_uzAocGzDfyh0ycaexeaBDxNl9tUo2av8reXPDdnuiayMTVoLeZyRX3Xpi_6c2wbFTQEO8YzgbBWw1VJig9NMv0w5SC7oK5GoTvA-TAXLSQ01FgcDldQyKYW67HSddsm8yHxgA078rKRJyZuf3JGQYzHhn6lBYzSg6tNcSGdVT0LB4PzvYfS82uC9MUaXjIkf83Mk_VHRESXqP3W9lCwaMoqj98xNeqPRZGhKCcWduELQFVQGa3Ujd1s9iXFkoDBoXJP7Gg2BpdUSwWxpUPtT6Ot5OsSqqg4NMG3k--IJnQCwoK_zPILFwjiZG1FkHDAjEc0_aEarN6G0Joj8yWnBhGhBSCof56weNImN0WGiPeVcx6zuhge9IwPlu6U4dvdlDYoLY01NXHt6BMQglKfC2lccXyEqs-xTMr8tEi9lh9bw4UkKk3k8xF7lT1mv7HP4ssZs8oZqDaECwzYAHUeHa1oDRqcBYCCPVJ_lnWmQ5cjfSK_LpocjVdFPt2Ss65NR6O3kH6rd_INJemdbhyjjc7zLyMa_OZZKOKF4J-SZa3W2PtYqi50s4Ze82XcgbTn-GwcoVKSamRQi0WiReP75QbgiLSshscdlv866shZnie-Ldrcg6tlF2Ya-6EuM75Vsy-g-m0dERD6_goqnH0O5n2bqegLTvfMJveeq86EfbwBpG8jZ8vxmnyZfrMRdRQ5EVK3FUDlyd0OEVdg0VtF2IZzzEVye_NDf5-xg1hdA_po-6U6G_FkrHgyuWj54R5xlqMV94L8qXLZ9cMnv3uVQFCYzq452CgtWvg01jWSVGEFKM3aWfhAgQf4EAn3st_Q6BTyxf0i38EBY9umP2hRgxjEkPJxp9pUvX8chKEwHgIdlbHSLKqgmqmU4A4VwZR48xh8DspRlGMry08yeigqgZCNHTO4LSuOsiLIQVsEAHLqzUl7xwANp0QGZe8FXTDZ_s&Issuer=https%3A%2F%2Fapi.vocareum.com&Destination=https%3A%2F%2Fconsole.aws.amazon.com%2Fconsole%2Fhome%3Fregion%3Dus-west-2\" target=\"_blank\">GO TO AWS CONSOLE</a>"
      ],
      "text/plain": [
       "<IPython.core.display.HTML object>"
      ]
     },
     "execution_count": 12,
     "metadata": {},
     "output_type": "execute_result"
    }
   ],
   "source": [
    "HTML(f'<a href=\"{aws_url}\" target=\"_blank\">GO TO AWS CONSOLE</a>')"
   ]
  },
  {
   "cell_type": "code",
   "execution_count": null,
   "id": "68305ae0",
   "metadata": {
    "height": 30
   },
   "outputs": [],
   "source": []
  },
  {
   "cell_type": "code",
   "execution_count": null,
   "id": "e7bc140e",
   "metadata": {
    "height": 30
   },
   "outputs": [],
   "source": []
  }
 ],
 "metadata": {
  "kernelspec": {
   "display_name": "Python 3 (ipykernel)",
   "language": "python",
   "name": "python3"
  },
  "language_info": {
   "codemirror_mode": {
    "name": "ipython",
    "version": 3
   },
   "file_extension": ".py",
   "mimetype": "text/x-python",
   "name": "python",
   "nbconvert_exporter": "python",
   "pygments_lexer": "ipython3",
   "version": "3.11.9"
  }
 },
 "nbformat": 4,
 "nbformat_minor": 5
}
